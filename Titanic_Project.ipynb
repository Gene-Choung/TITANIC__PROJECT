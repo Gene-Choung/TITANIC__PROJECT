{
 "cells": [
  {
   "cell_type": "markdown",
   "metadata": {},
   "source": [
    "## Step 1: Reading the data\n",
    "\n",
    "In the [notebook](./Titanic.ipynb) provided, do the following:\n",
    "\n",
    "1. Import `pandas` and `matplotlib.pyplot`\n",
    "1. Load [train.csv](./train.csv) as a `pandas` DataFrame.\n",
    "1. In each of the following sections, copy the question as a python comment, then answer the question with your own code.\n",
    "1. Refer to the [Titanic Kaggle competition](https://www.kaggle.com/c/titanic/data) if you need an explanation for any of the columns."
   ]
  },
  {
   "cell_type": "code",
   "execution_count": 3,
   "metadata": {},
   "outputs": [
    {
     "data": {
      "text/plain": [
       "Index(['PassengerId', 'Survived', 'Pclass', 'Name', 'Sex', 'Age', 'SibSp',\n",
       "       'Parch', 'Ticket', 'Fare', 'Cabin', 'Embarked'],\n",
       "      dtype='object')"
      ]
     },
     "execution_count": 3,
     "metadata": {},
     "output_type": "execute_result"
    }
   ],
   "source": [
    "import pandas as pd \n",
    "import matplotlib as plt\n",
    "import numpy as np\n",
    "import fnmatch\n",
    "import nbconvert\n",
    "titanic= pd.read_csv('train.csv')\n",
    "titanic.head()\n",
    "titanic.columns"
   ]
  },
  {
   "cell_type": "markdown",
   "metadata": {},
   "source": [
    "## Step 2: Cleaning the data\n",
    "\n",
    "1. Create a bar chart showing how many missing values are in each column\n",
    "  - *Bonus* : Theres a good library for visualizing missing values called Missingno.\n",
    "      - [Install Instructions](https://pypi.org/project/missingno/)\n",
    "      - [Usage Documentation](https://github.com/ResidentMario/missingno)\n",
    "2. Which column has the most `NaN` values? How many cells in that column are empty?\n",
    "3. Delete all rows where `Embarked` is empty\n",
    "4. Fill all empty cabins with **¯\\\\_(ツ)_/¯**"
   ]
  },
  {
   "cell_type": "code",
   "execution_count": 524,
   "metadata": {},
   "outputs": [],
   "source": [
    "# 1)Create a bar chart showing how many missing values are in each column\n",
    "# Bonus : Theres a good library for visualizing missing values called Missingno.\n",
    "# Install Instructions\n",
    "# Usage Documentation"
   ]
  },
  {
   "cell_type": "code",
   "execution_count": 525,
   "metadata": {},
   "outputs": [
    {
     "data": {
      "text/plain": [
       "<AxesSubplot:>"
      ]
     },
     "execution_count": 525,
     "metadata": {},
     "output_type": "execute_result"
    },
    {
     "data": {
      "image/png": "[encoded data removed]",
      "text/plain": [
       "<Figure size 640x480 with 1 Axes>"
      ]
     },
     "metadata": {},
     "output_type": "display_data"
    }
   ],
   "source": [
    "# 1)Create a bar chart showing how many missing values are in each column\n",
    "\n",
    "titanic.isnull().sum().plot(kind='barh')"
   ]
  },
  {
   "cell_type": "code",
   "execution_count": 526,
   "metadata": {},
   "outputs": [
    {
     "data": {
      "text/plain": [
       "866"
      ]
     },
     "execution_count": 526,
     "metadata": {},
     "output_type": "execute_result"
    }
   ],
   "source": [
    "# 2)Which column has the most NaN values? How many cells in that column are empty?\n",
    "# Answer: The Cabin column has the most NaN values.\n",
    "# Answer: The total number of empty cells is 866\n",
    "titanic.isnull().sum().sum()"
   ]
  },
  {
   "cell_type": "code",
   "execution_count": 527,
   "metadata": {},
   "outputs": [
    {
     "data": {
      "text/plain": [
       "(889, 12)"
      ]
     },
     "execution_count": 527,
     "metadata": {},
     "output_type": "execute_result"
    }
   ],
   "source": [
    "# 3)Delete all rows where Embarked is empty\n",
    "titanic=titanic.dropna(subset=['Embarked'])\n",
    "titanic.shape\n",
    "\n",
    "\n"
   ]
  },
  {
   "cell_type": "code",
   "execution_count": 528,
   "metadata": {},
   "outputs": [
    {
     "data": {
      "text/plain": [
       "¯\\_(ツ)_/¯      687\n",
       "G6               4\n",
       "C23 C25 C27      4\n",
       "B96 B98          4\n",
       "F2               3\n",
       "              ... \n",
       "E34              1\n",
       "C7               1\n",
       "C54              1\n",
       "E36              1\n",
       "C148             1\n",
       "Name: Cabin, Length: 147, dtype: int64"
      ]
     },
     "execution_count": 528,
     "metadata": {},
     "output_type": "execute_result"
    }
   ],
   "source": [
    "# 4) Fill all empty cabins with **¯\\\\_(ツ)_/¯**\n",
    "titanic['Cabin']= titanic['Cabin'].fillna('¯\\\\_(ツ)_/¯')\n",
    "titanic['Cabin'].value_counts()\n"
   ]
  },
  {
   "cell_type": "code",
   "execution_count": 529,
   "metadata": {
    "tags": []
   },
   "outputs": [],
   "source": [
    "## Step 3: Feature extraction\n",
    "# 1.  There are two columns that pertain to how many family members are on \n",
    "# the boat for a given person. Create a new column called `FamilyCount`\n",
    "# which will be the sum of those two columns.\n",
    "# 2. Reverends have a special title in their name. Create a column \n",
    "# called `IsReverend`: 1 if they're a preacher, 0 if they're not.\n",
    "# # 3. In order to feed our training data into a classification algorithm, we need to convert our categories into 1's and 0's using `pd.get_dummies`\n",
    "# #   - Familiarize yourself with the [`pd.get_dummies` documentation](https://pandas.pydata.org/pandas-docs/stable/reference/api/pandas.get_dummies.html)\n",
    "# #   - Create 3 columns: `Embarked_C`, `Embarked_Q` and `Embarked_S`. These columns will have 1's and 0's that correspond to the `C`, `Q` and `S` values in the `Embarked` column\n",
    "# #   - Do the same thing for `Sex`\n",
    "# #   - BONUS: Extract the title from everyone's # 2. Reverends have a special title in their name. Create a column called `IsReverend`: 1 if they're a preacher, 0 if they're not.\n",
    "# name and create dummy columns\n"
   ]
  },
  {
   "cell_type": "code",
   "execution_count": 530,
   "metadata": {
    "tags": []
   },
   "outputs": [
    {
     "data": {
      "text/plain": [
       "Index(['PassengerId', 'Survived', 'Pclass', 'Name', 'Sex', 'Age', 'SibSp',\n",
       "       'Parch', 'Ticket', 'Fare', 'Cabin', 'Embarked', 'FamilyCounts'],\n",
       "      dtype='object')"
      ]
     },
     "execution_count": 530,
     "metadata": {},
     "output_type": "execute_result"
    }
   ],
   "source": [
    "# # 1.  There are two columns that pertain to how many family members are\n",
    "# on the boat for a given person. Create a new column called `FamilyCount` \n",
    "# which will be the sum of those two columns.\n",
    "\n",
    "# def FamilyCount(row):\n",
    "#    return row['SibSp']+row['Parch']\n",
    "#titanic['FamilyCounts']=titanic.apply(FamilyCounts, axis=1)\n",
    "titanic['FamilyCounts']=titanic['SibSp']+titanic['Parch']\n",
    "titanic.columns"
   ]
  },
  {
   "cell_type": "code",
   "execution_count": 531,
   "metadata": {},
   "outputs": [
    {
     "data": {
      "text/plain": [
       "0    883\n",
       "1      6\n",
       "Name: IsReverend, dtype: int64"
      ]
     },
     "execution_count": 531,
     "metadata": {},
     "output_type": "execute_result"
    }
   ],
   "source": [
    "# 2. Reverends have a special title in their name. Create a column \n",
    "# called `IsReverend`: 1 if they're a preacher, 0 if they're not.\n",
    "def IsReverend(row):\n",
    "    if 'Rev.' in  row['Name']:\n",
    "        return 1\n",
    "    else:\n",
    "        return 0\n",
    "titanic['IsReverend']=titanic.apply(IsReverend, axis=1)\n",
    "titanic['IsReverend'].value_counts()"
   ]
  },
  {
   "cell_type": "code",
   "execution_count": 532,
   "metadata": {},
   "outputs": [],
   "source": [
    "# # 3. In order to feed our training data into a classification algorithm, we need to convert our categories into 1's and 0's using `pd.get_dummies`\n",
    "# #   - Familiarize yourself with the [`pd.get_dummies` documentation](https://pandas.pydata.org/pandas-docs/stable/reference/api/pandas.get_dummies.html)\n",
    "# #   - Create 3 columns: `Embarked_C`, `Embarked_Q` and `Embarked_S`. These columns will have 1's and 0's that correspond to the `C`, `Q` and `S` values in the `Embarked` column\n",
    "# #   - Do the same thing for `Sex`\n",
    "# #   - BONUS: Extract the title from everyone's # 2. Reverends have a special title in their name. Create a column called `IsReverend`: 1 if they're a preacher, 0 if they're not.\n",
    "# name and create dummy columns"
   ]
  },
  {
   "cell_type": "code",
   "execution_count": 533,
   "metadata": {},
   "outputs": [],
   "source": [
    "titanic=pd.get_dummies(titanic,columns=['Embarked'])"
   ]
  },
  {
   "cell_type": "code",
   "execution_count": 534,
   "metadata": {},
   "outputs": [],
   "source": [
    "titanic=pd.get_dummies(titanic,columns=['Sex'])"
   ]
  },
  {
   "cell_type": "code",
   "execution_count": 535,
   "metadata": {},
   "outputs": [
    {
     "data": {
      "text/html": [
       "<div>\n",
       "<style scoped>\n",
       "    .dataframe tbody tr th:only-of-type {\n",
       "        vertical-align: middle;\n",
       "    }\n",
       "\n",
       "    .dataframe tbody tr th {\n",
       "        vertical-align: top;\n",
       "    }\n",
       "\n",
       "    .dataframe thead th {\n",
       "        text-align: right;\n",
       "    }\n",
       "</style>\n",
       "<table border=\"1\" class=\"dataframe\">\n",
       "  <thead>\n",
       "    <tr style=\"text-align: right;\">\n",
       "      <th></th>\n",
       "      <th>PassengerId</th>\n",
       "      <th>Survived</th>\n",
       "      <th>Pclass</th>\n",
       "      <th>Name</th>\n",
       "      <th>Age</th>\n",
       "      <th>SibSp</th>\n",
       "      <th>Parch</th>\n",
       "      <th>Ticket</th>\n",
       "      <th>Fare</th>\n",
       "      <th>Cabin</th>\n",
       "      <th>FamilyCounts</th>\n",
       "      <th>IsReverend</th>\n",
       "      <th>Embarked_C</th>\n",
       "      <th>Embarked_Q</th>\n",
       "      <th>Embarked_S</th>\n",
       "      <th>Sex_female</th>\n",
       "      <th>Sex_male</th>\n",
       "    </tr>\n",
       "  </thead>\n",
       "  <tbody>\n",
       "    <tr>\n",
       "      <th>0</th>\n",
       "      <td>1</td>\n",
       "      <td>0</td>\n",
       "      <td>3</td>\n",
       "      <td>Braund, Mr. Owen Harris</td>\n",
       "      <td>22.0</td>\n",
       "      <td>1</td>\n",
       "      <td>0</td>\n",
       "      <td>A/5 21171</td>\n",
       "      <td>7.2500</td>\n",
       "      <td>¯\\_(ツ)_/¯</td>\n",
       "      <td>1</td>\n",
       "      <td>0</td>\n",
       "      <td>0</td>\n",
       "      <td>0</td>\n",
       "      <td>1</td>\n",
       "      <td>0</td>\n",
       "      <td>1</td>\n",
       "    </tr>\n",
       "    <tr>\n",
       "      <th>1</th>\n",
       "      <td>2</td>\n",
       "      <td>1</td>\n",
       "      <td>1</td>\n",
       "      <td>Cumings, Mrs. John Bradley (Florence Briggs Th...</td>\n",
       "      <td>38.0</td>\n",
       "      <td>1</td>\n",
       "      <td>0</td>\n",
       "      <td>PC 17599</td>\n",
       "      <td>71.2833</td>\n",
       "      <td>C85</td>\n",
       "      <td>1</td>\n",
       "      <td>0</td>\n",
       "      <td>1</td>\n",
       "      <td>0</td>\n",
       "      <td>0</td>\n",
       "      <td>1</td>\n",
       "      <td>0</td>\n",
       "    </tr>\n",
       "    <tr>\n",
       "      <th>2</th>\n",
       "      <td>3</td>\n",
       "      <td>1</td>\n",
       "      <td>3</td>\n",
       "      <td>Heikkinen, Miss. Laina</td>\n",
       "      <td>26.0</td>\n",
       "      <td>0</td>\n",
       "      <td>0</td>\n",
       "      <td>STON/O2. 3101282</td>\n",
       "      <td>7.9250</td>\n",
       "      <td>¯\\_(ツ)_/¯</td>\n",
       "      <td>0</td>\n",
       "      <td>0</td>\n",
       "      <td>0</td>\n",
       "      <td>0</td>\n",
       "      <td>1</td>\n",
       "      <td>1</td>\n",
       "      <td>0</td>\n",
       "    </tr>\n",
       "    <tr>\n",
       "      <th>3</th>\n",
       "      <td>4</td>\n",
       "      <td>1</td>\n",
       "      <td>1</td>\n",
       "      <td>Futrelle, Mrs. Jacques Heath (Lily May Peel)</td>\n",
       "      <td>35.0</td>\n",
       "      <td>1</td>\n",
       "      <td>0</td>\n",
       "      <td>113803</td>\n",
       "      <td>53.1000</td>\n",
       "      <td>C123</td>\n",
       "      <td>1</td>\n",
       "      <td>0</td>\n",
       "      <td>0</td>\n",
       "      <td>0</td>\n",
       "      <td>1</td>\n",
       "      <td>1</td>\n",
       "      <td>0</td>\n",
       "    </tr>\n",
       "    <tr>\n",
       "      <th>4</th>\n",
       "      <td>5</td>\n",
       "      <td>0</td>\n",
       "      <td>3</td>\n",
       "      <td>Allen, Mr. William Henry</td>\n",
       "      <td>35.0</td>\n",
       "      <td>0</td>\n",
       "      <td>0</td>\n",
       "      <td>373450</td>\n",
       "      <td>8.0500</td>\n",
       "      <td>¯\\_(ツ)_/¯</td>\n",
       "      <td>0</td>\n",
       "      <td>0</td>\n",
       "      <td>0</td>\n",
       "      <td>0</td>\n",
       "      <td>1</td>\n",
       "      <td>0</td>\n",
       "      <td>1</td>\n",
       "    </tr>\n",
       "  </tbody>\n",
       "</table>\n",
       "</div>"
      ],
      "text/plain": [
       "   PassengerId  Survived  Pclass  \\\n",
       "0            1         0       3   \n",
       "1            2         1       1   \n",
       "2            3         1       3   \n",
       "3            4         1       1   \n",
       "4            5         0       3   \n",
       "\n",
       "                                                Name   Age  SibSp  Parch  \\\n",
       "0                            Braund, Mr. Owen Harris  22.0      1      0   \n",
       "1  Cumings, Mrs. John Bradley (Florence Briggs Th...  38.0      1      0   \n",
       "2                             Heikkinen, Miss. Laina  26.0      0      0   \n",
       "3       Futrelle, Mrs. Jacques Heath (Lily May Peel)  35.0      1      0   \n",
       "4                           Allen, Mr. William Henry  35.0      0      0   \n",
       "\n",
       "             Ticket     Fare      Cabin  FamilyCounts  IsReverend  Embarked_C  \\\n",
       "0         A/5 21171   7.2500  ¯\\_(ツ)_/¯             1           0           0   \n",
       "1          PC 17599  71.2833        C85             1           0           1   \n",
       "2  STON/O2. 3101282   7.9250  ¯\\_(ツ)_/¯             0           0           0   \n",
       "3            113803  53.1000       C123             1           0           0   \n",
       "4            373450   8.0500  ¯\\_(ツ)_/¯             0           0           0   \n",
       "\n",
       "   Embarked_Q  Embarked_S  Sex_female  Sex_male  \n",
       "0           0           1           0         1  \n",
       "1           0           0           1         0  \n",
       "2           0           1           1         0  \n",
       "3           0           1           1         0  \n",
       "4           0           1           0         1  "
      ]
     },
     "execution_count": 535,
     "metadata": {},
     "output_type": "execute_result"
    }
   ],
   "source": [
    "titanic.head()"
   ]
  },
  {
   "cell_type": "code",
   "execution_count": 536,
   "metadata": {},
   "outputs": [],
   "source": [
    "# ## Step 4: Exploratory analysis \n",
    "# _[`df.groupby()`](https://pandas.pydata.org/pandas-docs/stable/reference/api/pandas.DataFrame.groupby.html) may be very useful._\n",
    "\n",
    "# 1. What was the survival rate overall?\n",
    "# 2. Which gender fared the worst? What was their survival rate?\n",
    "# 3. What was the survival rate for each `Pclass`?\n",
    "# 4. Did any reverends survive? How many?\n",
    "# 5. What is the survival rate for cabins marked **¯\\\\_(ツ)_/¯**\n",
    "# 6. What is the survival rate for people whose `Age` is empty?\n",
    "# 7. What is the survival rate for each port of embarkation?\n",
    "# 8. What is the survival rate for children (under 12) in each `Pclass`?\n",
    "# 9. Did the captain of the ship survive? Is he on the list?\n",
    "# 10. Of all the people that died, who had the most expensive ticket? How much did it cost?\n",
    "# 11. Does having family on the boat help or hurt your chances of survival?"
   ]
  },
  {
   "cell_type": "code",
   "execution_count": 537,
   "metadata": {},
   "outputs": [
    {
     "data": {
      "text/plain": [
       "0.38245219347581555"
      ]
     },
     "execution_count": 537,
     "metadata": {},
     "output_type": "execute_result"
    }
   ],
   "source": [
    "# 1. What was the survival rate overall?\n",
    "sum(titanic['Survived']==1)/ titanic['Survived'].count()"
   ]
  },
  {
   "cell_type": "code",
   "execution_count": 538,
   "metadata": {},
   "outputs": [
    {
     "data": {
      "text/plain": [
       "Sex     Survived\n",
       "female  1           231\n",
       "        0            81\n",
       "male    0           468\n",
       "        1           109\n",
       "Name: Survived, dtype: int64"
      ]
     },
     "execution_count": 538,
     "metadata": {},
     "output_type": "execute_result"
    }
   ],
   "source": [
    "# 2. Which gender fared the worst? What was their survival rate?\n",
    "# Male gender fared the worst more male deaths \n",
    "# Survival Rate of males 0.18890814558058924\n",
    "train.groupby('Sex')['Survived'].value_counts()\n",
    "\n"
   ]
  },
  {
   "cell_type": "code",
   "execution_count": 539,
   "metadata": {},
   "outputs": [
    {
     "data": {
      "text/plain": [
       "577"
      ]
     },
     "execution_count": 539,
     "metadata": {},
     "output_type": "execute_result"
    }
   ],
   "source": [
    "sum(train['Sex']=='male')"
   ]
  },
  {
   "cell_type": "code",
   "execution_count": 540,
   "metadata": {},
   "outputs": [
    {
     "data": {
      "text/plain": [
       "0.18890814558058924"
      ]
     },
     "execution_count": 540,
     "metadata": {},
     "output_type": "execute_result"
    }
   ],
   "source": [
    "sum(titanic[titanic['Sex_male']==1]['Survived'])/sum(titanic['Sex_male'])"
   ]
  },
  {
   "cell_type": "code",
   "execution_count": 541,
   "metadata": {},
   "outputs": [
    {
     "data": {
      "text/plain": [
       "Pclass\n",
       "1    0.626168\n",
       "2    0.472826\n",
       "3    0.242363\n",
       "Name: Survived, dtype: float64"
      ]
     },
     "execution_count": 541,
     "metadata": {},
     "output_type": "execute_result"
    }
   ],
   "source": [
    "# 3. What was the survival rate for each `Pclass`?\n",
    "titanic.groupby('Pclass')['Survived'].mean()"
   ]
  },
  {
   "cell_type": "code",
   "execution_count": 542,
   "metadata": {},
   "outputs": [
    {
     "data": {
      "text/plain": [
       "0    883\n",
       "1      6\n",
       "Name: IsReverend, dtype: int64"
      ]
     },
     "execution_count": 542,
     "metadata": {},
     "output_type": "execute_result"
    }
   ],
   "source": [
    "# 4. Did any reverends survive? How many?\n",
    "# Answer: All 6 reverends have died \n",
    "titanic['IsReverend'].value_counts()"
   ]
  },
  {
   "cell_type": "code",
   "execution_count": 543,
   "metadata": {},
   "outputs": [
    {
     "data": {
      "text/plain": [
       "0"
      ]
     },
     "execution_count": 543,
     "metadata": {},
     "output_type": "execute_result"
    }
   ],
   "source": [
    "sum(titanic[titanic['IsReverend']==1]['Survived']==1)"
   ]
  },
  {
   "cell_type": "code",
   "execution_count": 544,
   "metadata": {},
   "outputs": [
    {
     "data": {
      "text/plain": [
       "0.29985443959243085"
      ]
     },
     "execution_count": 544,
     "metadata": {},
     "output_type": "execute_result"
    }
   ],
   "source": [
    "# 5. What is the survival rate for cabins marked **¯\\\\_(ツ)_/¯**?\n",
    "# Answer: Survival rate of cabin marked ¯\\\\_(ツ)_/¯  =  0.29985443959243085\n",
    "sum(titanic[titanic['Cabin']=='¯\\\\_(ツ)_/¯']['Survived']==1)/sum(titanic['Cabin']=='¯\\\\_(ツ)_/¯')"
   ]
  },
  {
   "cell_type": "code",
   "execution_count": 545,
   "metadata": {},
   "outputs": [
    {
     "data": {
      "text/plain": [
       "0.29985443959243085"
      ]
     },
     "execution_count": 545,
     "metadata": {},
     "output_type": "execute_result"
    }
   ],
   "source": [
    "sum(titanic[titanic['Cabin']=='¯\\\\_(ツ)_/¯']['Survived'])/sum(titanic['Cabin']=='¯\\\\_(ツ)_/¯')"
   ]
  },
  {
   "cell_type": "code",
   "execution_count": 546,
   "metadata": {},
   "outputs": [
    {
     "data": {
      "text/plain": [
       "Cabin\n",
       "A10            1\n",
       "A14            1\n",
       "A16            1\n",
       "A19            1\n",
       "A20            1\n",
       "            ... \n",
       "F38            1\n",
       "F4             2\n",
       "G6             4\n",
       "T              1\n",
       "¯\\_(ツ)_/¯    687\n",
       "Name: Survived, Length: 147, dtype: int64"
      ]
     },
     "execution_count": 546,
     "metadata": {},
     "output_type": "execute_result"
    }
   ],
   "source": [
    "titanic.groupby('Cabin')['Survived'].count()"
   ]
  },
  {
   "cell_type": "code",
   "execution_count": 547,
   "metadata": {},
   "outputs": [
    {
     "data": {
      "text/plain": [
       "687"
      ]
     },
     "execution_count": 547,
     "metadata": {},
     "output_type": "execute_result"
    }
   ],
   "source": [
    "sum(titanic['Cabin']=='¯\\\\_(ツ)_/¯')"
   ]
  },
  {
   "cell_type": "code",
   "execution_count": 548,
   "metadata": {},
   "outputs": [
    {
     "data": {
      "text/plain": [
       "0.2937853107344633"
      ]
     },
     "execution_count": 548,
     "metadata": {},
     "output_type": "execute_result"
    }
   ],
   "source": [
    "# 6. What is the survival rate for people whose `Age` is empty?\n",
    "# Answer; The survival rate of people whose age is empty is 0.2937853107344633\n",
    "sum(titanic[titanic['Age'].isnull()]['Survived'])/sum(titanic['Age'].isnull())"
   ]
  },
  {
   "cell_type": "code",
   "execution_count": 549,
   "metadata": {},
   "outputs": [
    {
     "data": {
      "text/plain": [
       "Embarked_C\n",
       "0    0.342580\n",
       "1    0.553571\n",
       "Name: Survived, dtype: float64"
      ]
     },
     "execution_count": 549,
     "metadata": {},
     "output_type": "execute_result"
    }
   ],
   "source": [
    "# 7. What is the survival rate for each port of embarkation?\n",
    "# Answer: Survival Rate\n",
    "# Embarked_C = 0.553571\n",
    "# Embarked_Q = 0.38961038961038963\n",
    "# Embarked_S = 0.33695652173913043\n",
    "titanic.groupby('Embarked_C')['Survived'].mean()"
   ]
  },
  {
   "cell_type": "code",
   "execution_count": 550,
   "metadata": {},
   "outputs": [
    {
     "data": {
      "text/plain": [
       "0.38961038961038963"
      ]
     },
     "execution_count": 550,
     "metadata": {},
     "output_type": "execute_result"
    }
   ],
   "source": [
    "sum(titanic[titanic['Embarked_Q']==1]['Survived'])/sum(titanic['Embarked_Q'])"
   ]
  },
  {
   "cell_type": "code",
   "execution_count": 551,
   "metadata": {},
   "outputs": [
    {
     "data": {
      "text/plain": [
       "77"
      ]
     },
     "execution_count": 551,
     "metadata": {},
     "output_type": "execute_result"
    }
   ],
   "source": [
    "sum(titanic['Embarked_Q'])"
   ]
  },
  {
   "cell_type": "code",
   "execution_count": 552,
   "metadata": {},
   "outputs": [
    {
     "data": {
      "text/plain": [
       "0.33695652173913043"
      ]
     },
     "execution_count": 552,
     "metadata": {},
     "output_type": "execute_result"
    }
   ],
   "source": [
    "sum(titanic[titanic['Embarked_S']==1]['Survived'])/sum(titanic['Embarked_S'])"
   ]
  },
  {
   "cell_type": "code",
   "execution_count": 553,
   "metadata": {},
   "outputs": [
    {
     "data": {
      "text/plain": [
       "644"
      ]
     },
     "execution_count": 553,
     "metadata": {},
     "output_type": "execute_result"
    }
   ],
   "source": [
    "sum(titanic['Embarked_S'])"
   ]
  },
  {
   "cell_type": "code",
   "execution_count": 554,
   "metadata": {},
   "outputs": [],
   "source": [
    "# 8. What is the survival rate for children (under 12) in each `Pclass`?\n"
   ]
  },
  {
   "cell_type": "code",
   "execution_count": 555,
   "metadata": {},
   "outputs": [
    {
     "data": {
      "text/plain": [
       "Pclass\n",
       "1    0.750000\n",
       "2    1.000000\n",
       "3    0.404255\n",
       "Name: Survived, dtype: float64"
      ]
     },
     "execution_count": 555,
     "metadata": {},
     "output_type": "execute_result"
    }
   ],
   "source": [
    "titanic[titanic['Age']<12].groupby('Pclass')['Survived'].mean()"
   ]
  },
  {
   "cell_type": "code",
   "execution_count": null,
   "metadata": {},
   "outputs": [],
   "source": [
    "# 9. Did the captain of the ship survive? Is he on the list?\n",
    "# Answer: The Captin died and was on the list "
   ]
  },
  {
   "cell_type": "code",
   "execution_count": 561,
   "metadata": {},
   "outputs": [
    {
     "data": {
      "text/html": [
       "<div>\n",
       "<style scoped>\n",
       "    .dataframe tbody tr th:only-of-type {\n",
       "        vertical-align: middle;\n",
       "    }\n",
       "\n",
       "    .dataframe tbody tr th {\n",
       "        vertical-align: top;\n",
       "    }\n",
       "\n",
       "    .dataframe thead th {\n",
       "        text-align: right;\n",
       "    }\n",
       "</style>\n",
       "<table border=\"1\" class=\"dataframe\">\n",
       "  <thead>\n",
       "    <tr style=\"text-align: right;\">\n",
       "      <th></th>\n",
       "      <th>PassengerId</th>\n",
       "      <th>Survived</th>\n",
       "      <th>Pclass</th>\n",
       "      <th>Name</th>\n",
       "      <th>Age</th>\n",
       "      <th>SibSp</th>\n",
       "      <th>Parch</th>\n",
       "      <th>Ticket</th>\n",
       "      <th>Fare</th>\n",
       "      <th>Cabin</th>\n",
       "      <th>FamilyCounts</th>\n",
       "      <th>IsReverend</th>\n",
       "      <th>Embarked_C</th>\n",
       "      <th>Embarked_Q</th>\n",
       "      <th>Embarked_S</th>\n",
       "      <th>Sex_female</th>\n",
       "      <th>Sex_male</th>\n",
       "    </tr>\n",
       "  </thead>\n",
       "  <tbody>\n",
       "    <tr>\n",
       "      <th>745</th>\n",
       "      <td>746</td>\n",
       "      <td>0</td>\n",
       "      <td>1</td>\n",
       "      <td>Crosby, Capt. Edward Gifford</td>\n",
       "      <td>70.0</td>\n",
       "      <td>1</td>\n",
       "      <td>1</td>\n",
       "      <td>WE/P 5735</td>\n",
       "      <td>71.0</td>\n",
       "      <td>B22</td>\n",
       "      <td>2</td>\n",
       "      <td>0</td>\n",
       "      <td>0</td>\n",
       "      <td>0</td>\n",
       "      <td>1</td>\n",
       "      <td>0</td>\n",
       "      <td>1</td>\n",
       "    </tr>\n",
       "  </tbody>\n",
       "</table>\n",
       "</div>"
      ],
      "text/plain": [
       "     PassengerId  Survived  Pclass                          Name   Age  SibSp  \\\n",
       "745          746         0       1  Crosby, Capt. Edward Gifford  70.0      1   \n",
       "\n",
       "     Parch     Ticket  Fare Cabin  FamilyCounts  IsReverend  Embarked_C  \\\n",
       "745      1  WE/P 5735  71.0   B22             2           0           0   \n",
       "\n",
       "     Embarked_Q  Embarked_S  Sex_female  Sex_male  \n",
       "745           0           1           0         1  "
      ]
     },
     "execution_count": 561,
     "metadata": {},
     "output_type": "execute_result"
    }
   ],
   "source": [
    "titanic[titanic['Name'].str.find('Capt')>0]"
   ]
  },
  {
   "cell_type": "code",
   "execution_count": 566,
   "metadata": {},
   "outputs": [
    {
     "data": {
      "text/html": [
       "<div>\n",
       "<style scoped>\n",
       "    .dataframe tbody tr th:only-of-type {\n",
       "        vertical-align: middle;\n",
       "    }\n",
       "\n",
       "    .dataframe tbody tr th {\n",
       "        vertical-align: top;\n",
       "    }\n",
       "\n",
       "    .dataframe thead th {\n",
       "        text-align: right;\n",
       "    }\n",
       "</style>\n",
       "<table border=\"1\" class=\"dataframe\">\n",
       "  <thead>\n",
       "    <tr style=\"text-align: right;\">\n",
       "      <th></th>\n",
       "      <th>Name</th>\n",
       "      <th>Survived</th>\n",
       "    </tr>\n",
       "  </thead>\n",
       "  <tbody>\n",
       "    <tr>\n",
       "      <th>745</th>\n",
       "      <td>Crosby, Capt. Edward Gifford</td>\n",
       "      <td>0</td>\n",
       "    </tr>\n",
       "  </tbody>\n",
       "</table>\n",
       "</div>"
      ],
      "text/plain": [
       "                             Name  Survived\n",
       "745  Crosby, Capt. Edward Gifford         0"
      ]
     },
     "execution_count": 566,
     "metadata": {},
     "output_type": "execute_result"
    }
   ],
   "source": [
    "titanic[titanic['Name'].str.find('Capt')>0][['Name','Survived']]"
   ]
  },
  {
   "cell_type": "code",
   "execution_count": null,
   "metadata": {},
   "outputs": [],
   "source": [
    "# 10. Of all the people that died, who had the most expensive ticket? How much did it cost?\n",
    "# Of all the people that die\n"
   ]
  },
  {
   "cell_type": "code",
   "execution_count": 584,
   "metadata": {},
   "outputs": [
    {
     "data": {
      "text/plain": [
       "Name    van Melkebeke, Mr. Philemon\n",
       "Fare                          263.0\n",
       "dtype: object"
      ]
     },
     "execution_count": 584,
     "metadata": {},
     "output_type": "execute_result"
    }
   ],
   "source": [
    "titanic[titanic['Survived']==0][['Name','Fare']].max()"
   ]
  },
  {
   "cell_type": "code",
   "execution_count": 583,
   "metadata": {},
   "outputs": [
    {
     "data": {
      "text/plain": [
       "Name\n",
       "Abbing, Mr. Anthony                 7.5500\n",
       "Abbott, Mr. Rossmore Edward        20.2500\n",
       "Abelson, Mr. Samuel                24.0000\n",
       "Adahl, Mr. Mauritz Nils Martin      7.2500\n",
       "Adams, Mr. John                     8.0500\n",
       "                                    ...   \n",
       "Zimmerman, Mr. Leo                  7.8750\n",
       "de Pelsmaeker, Mr. Alfons           9.5000\n",
       "del Carlo, Mr. Sebastiano          27.7208\n",
       "van Billiard, Mr. Austin Blyler    14.5000\n",
       "van Melkebeke, Mr. Philemon         9.5000\n",
       "Name: Fare, Length: 549, dtype: float64"
      ]
     },
     "execution_count": 583,
     "metadata": {},
     "output_type": "execute_result"
    }
   ],
   "source": [
    "titanic[titanic['Survived']==0].groupby('Name')['Fare'].max()"
   ]
  },
  {
   "cell_type": "code",
   "execution_count": null,
   "metadata": {},
   "outputs": [],
   "source": []
  }
 ],
 "metadata": {
  "kernelspec": {
   "display_name": "Python 3 (ipykernel)",
   "language": "python",
   "name": "python3"
  },
  "language_info": {
   "codemirror_mode": {
    "name": "ipython",
    "version": 3
   },
   "file_extension": ".py",
   "mimetype": "text/x-python",
   "name": "python",
   "nbconvert_exporter": "python",
   "pygments_lexer": "ipython3",
   "version": "3.9.7"
  }
 },
 "nbformat": 4,
 "nbformat_minor": 4
}
